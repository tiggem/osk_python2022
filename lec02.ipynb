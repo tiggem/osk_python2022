{
 "cells": [
  {
   "cell_type": "markdown",
   "metadata": {},
   "source": [
    "# lec2 Python基礎文法②"
   ]
  },
  {
   "cell_type": "markdown",
   "metadata": {},
   "source": [
    "# 関数"
   ]
  },
  {
   "cell_type": "code",
   "execution_count": 50,
   "metadata": {},
   "outputs": [
    {
     "name": "stdout",
     "output_type": "stream",
     "text": [
      "3.605551275463989\n",
      "5.0\n",
      "9.219544457292887\n"
     ]
    }
   ],
   "source": [
    "#変数\n",
    "#計算結果を変数として置くことができます\n",
    "a = (2**2 + 3**2)**(1/2) \n",
    "b = (3**2 + 4**2)**(1/2)\n",
    "c = (6**2 + 7**2)**(1/2)\n",
    "print(a)\n",
    "print(b)\n",
    "print(c)"
   ]
  },
  {
   "cell_type": "code",
   "execution_count": 51,
   "metadata": {},
   "outputs": [],
   "source": [
    "#三角形の斜辺（hypotenuse）の長さを求めてくれる関数\n",
    "def calc_hypotenuse(x,y): # calc_hypotenuse()関数を定義\n",
    "    ans = (x**2 + y**2)**(1/2) # 関数が呼び出されると(x^2+y^2)^(1/2)が計算され変数ansに代入される\n",
    "    return ans # ansの値が関数の戻り値となる。"
   ]
  },
  {
   "cell_type": "code",
   "execution_count": 52,
   "metadata": {},
   "outputs": [
    {
     "name": "stdout",
     "output_type": "stream",
     "text": [
      "3.605551275463989\n",
      "5.0\n",
      "9.219544457292887\n"
     ]
    }
   ],
   "source": [
    "a = calc_hypotenuse(2,3) # calc_hypotenuse()の引数に2と3が入り、関数が呼び出される。\n",
    "b = calc_hypotenuse(3,4) # calc_hypotenuse()の引数に4と5が入り、関数が呼び出される\n",
    "c = calc_hypotenuse(6,7) # calc_hypotenuse()の引数に6と7が入り、関数が呼び出される\n",
    "print(a)\n",
    "print(b)\n",
    "print(c)"
   ]
  },
  {
   "cell_type": "code",
   "execution_count": 53,
   "metadata": {},
   "outputs": [],
   "source": [
    "#引数やreturnがなくてもok\n",
    "def print_func(): # 関数の定義\n",
    "    print(\"関数が呼ばれました\")\n"
   ]
  },
  {
   "cell_type": "code",
   "execution_count": 54,
   "metadata": {},
   "outputs": [
    {
     "name": "stdout",
     "output_type": "stream",
     "text": [
      "関数が呼ばれました\n"
     ]
    }
   ],
   "source": [
    "print_func() # 関数を呼び出す。入力や出力がなくても呼び出せる"
   ]
  },
  {
   "cell_type": "markdown",
   "metadata": {},
   "source": [
    "## 関数 演習"
   ]
  },
  {
   "cell_type": "markdown",
   "metadata": {},
   "source": [
    "問題1\\\n",
    "身長と体重を入力してBMIの値を出力する関数を作成せよ\\\n",
    "ただしBMIは 体重[kg]/(身長[m]*身長[m])で与えられる。\n",
    "\n",
    "問題2\\\n",
    "if文を使って，身長と体重を入力としBMIの値を元に肥満度を出力する関数を作成せよ\n",
    "\n",
    "問題3\\\n",
    "問題2で作った関数に以下のデータを入力して結果を確認せよ\\\n",
    "tanaka = {'height':2,'weight':80}\\\n",
    "普通と出てくれば正解"
   ]
  },
  {
   "cell_type": "markdown",
   "metadata": {},
   "source": [
    "|BMI|肥満度|\n",
    "|:---|:---|\n",
    "|18未満|'痩せ気味'|\n",
    "|18以上25未満|'普通'|\n",
    "|25以上|'太り気味'|"
   ]
  },
  {
   "cell_type": "code",
   "execution_count": null,
   "metadata": {},
   "outputs": [],
   "source": []
  },
  {
   "cell_type": "code",
   "execution_count": null,
   "metadata": {},
   "outputs": [],
   "source": []
  },
  {
   "cell_type": "code",
   "execution_count": null,
   "metadata": {},
   "outputs": [],
   "source": []
  },
  {
   "cell_type": "markdown",
   "metadata": {},
   "source": [
    "答え 問題1\n",
    "<!--\n",
    "def BMI_function(height, weight): # BMI_function(height, weight)の定義\n",
    "    ans = weight / (height * height) # BMIの計算\n",
    "    return ans # ansが関数の戻り値\n",
    "-->"
   ]
  },
  {
   "cell_type": "markdown",
   "metadata": {},
   "source": [
    "答え 問題2\n",
    "<!--\n",
    "def check_obesity(height, weight):\n",
    "    \n",
    "    #ポイント\n",
    "    bmi = BMI_function(height, weight)\n",
    "    \n",
    "    if bmi <18: #BMIの値が18より下であればif文の処理を実行。\n",
    "        return \"痩せ気味\"\n",
    "    elif bmi >= 18 and bmi < 25: #elifでさらに条件式と比較する\n",
    "        return \"普通\"\n",
    "    else: #全て偽であれば以下を実行\n",
    "        return \"太り気味\"\n",
    "-->"
   ]
  },
  {
   "cell_type": "markdown",
   "metadata": {},
   "source": [
    "答え 問題3\n",
    "<!--\n",
    "Tanaka = {\"height\":2, \"weight\":80}\n",
    "degree_obesity = check_obesity(Tanaka[\"height\"], Tanaka[\"weight\"])\n",
    "print(degree_obesity) # 肥満度を出力\n",
    "\n",
    "# 以下は参考：BMIの値を出力する\n",
    "#BMI_function()を呼び出し、関数の戻り値を変数BMIに代入される。\n",
    "BMI = BMI_function(Tanaka[\"height\"], Tanaka[\"weight\"])\n",
    "print(BMI) # BMI値を出力 \n",
    "-->"
   ]
  },
  {
   "cell_type": "markdown",
   "metadata": {},
   "source": [
    "## range()について"
   ]
  },
  {
   "cell_type": "code",
   "execution_count": 55,
   "metadata": {},
   "outputs": [
    {
     "name": "stdout",
     "output_type": "stream",
     "text": [
      "1\n",
      "2\n",
      "3\n",
      "4\n",
      "5\n",
      "6\n",
      "7\n",
      "8\n",
      "9\n",
      "10\n"
     ]
    }
   ],
   "source": [
    "# リストを使って１〜１０までの整数を標準出力する\n",
    "for i in [1,2,3,4,5,6,7,8,9,10]:\n",
    "    print(i)"
   ]
  },
  {
   "cell_type": "code",
   "execution_count": 56,
   "metadata": {},
   "outputs": [
    {
     "name": "stdout",
     "output_type": "stream",
     "text": [
      "0\n",
      "1\n",
      "2\n",
      "3\n",
      "4\n"
     ]
    }
   ],
   "source": [
    "# rangeを使って数列を作成する\n",
    "for i in range(5):\n",
    "    print(i)"
   ]
  },
  {
   "cell_type": "code",
   "execution_count": 57,
   "metadata": {},
   "outputs": [
    {
     "name": "stdout",
     "output_type": "stream",
     "text": [
      "2\n",
      "3\n",
      "4\n"
     ]
    }
   ],
   "source": [
    "# rangeを使って数列を作成する\n",
    "for i in range(2,5):\n",
    "    print(i)"
   ]
  },
  {
   "cell_type": "code",
   "execution_count": 58,
   "metadata": {},
   "outputs": [
    {
     "name": "stdout",
     "output_type": "stream",
     "text": [
      "2\n",
      "4\n",
      "6\n",
      "8\n"
     ]
    }
   ],
   "source": [
    "# rangeを使って数列を作成する\n",
    "for i in range(2,10,2): #3つ目の引数は2ずつ動く\n",
    "    print(i)"
   ]
  },
  {
   "cell_type": "markdown",
   "metadata": {},
   "source": [
    "## format()について"
   ]
  },
  {
   "cell_type": "code",
   "execution_count": 59,
   "metadata": {},
   "outputs": [
    {
     "name": "stdout",
     "output_type": "stream",
     "text": [
      "13.0\n"
     ]
    }
   ],
   "source": [
    "# 以前実装したcalc_hypotenuseを用いて、底辺が5、高さが12の三角形の斜辺の長さを求める\n",
    "ans = calc_hypotenuse(5,12)\n",
    "print(ans)"
   ]
  },
  {
   "cell_type": "markdown",
   "metadata": {},
   "source": [
    "format関数を用いた方法"
   ]
  },
  {
   "cell_type": "code",
   "execution_count": 60,
   "metadata": {},
   "outputs": [],
   "source": [
    "ans = int(ans)  #ansの答えを整数にした"
   ]
  },
  {
   "cell_type": "code",
   "execution_count": 61,
   "metadata": {},
   "outputs": [
    {
     "name": "stdout",
     "output_type": "stream",
     "text": [
      "斜辺の長さは13\n"
     ]
    }
   ],
   "source": [
    "#  \"斜辺の長さは13\" という形で標準出力したい\n",
    "print(\"斜辺の長さは{:d}\".format(ans)) # ansの中身を整数のint形式で文字列に埋め込む"
   ]
  },
  {
   "cell_type": "code",
   "execution_count": 62,
   "metadata": {},
   "outputs": [
    {
     "name": "stdout",
     "output_type": "stream",
     "text": [
      "斜辺の長さは13.00\n"
     ]
    }
   ],
   "source": [
    "#  \"斜辺の長さは13.00\" という形で標準出力したい\n",
    "print(\"斜辺の長さは{:.2f}\".format(ans)) # ansの中身を小数2桁のfloat形式で文字列に埋め込む\n"
   ]
  },
  {
   "cell_type": "code",
   "execution_count": 63,
   "metadata": {},
   "outputs": [
    {
     "name": "stdout",
     "output_type": "stream",
     "text": [
      "斜辺の長さは13.00\n"
     ]
    }
   ],
   "source": [
    "print(f\"斜辺の長さは{ans:.2f}\") # fstringを用いた方法"
   ]
  },
  {
   "cell_type": "code",
   "execution_count": 64,
   "metadata": {},
   "outputs": [
    {
     "name": "stdout",
     "output_type": "stream",
     "text": [
      "私の名前はTaroです。年齢は20歳です。\n",
      "私の名前はTaroです。年齢は20歳です。\n"
     ]
    }
   ],
   "source": [
    "name = \"Taro\"\n",
    "age = 20\n",
    "# 複数の値を文字列に埋め込むことも可能\n",
    "print(\"私の名前は{}です。年齢は{:d}歳です。\".format(name, age)) # format()\n",
    "print(f\"私の名前は{name}です。年齢は{age:d}歳です。\") # fstring"
   ]
  },
  {
   "cell_type": "markdown",
   "metadata": {},
   "source": [
    "## 関数演習　問題４"
   ]
  },
  {
   "cell_type": "markdown",
   "metadata": {},
   "source": [
    "九九の二の段を以下のような形で出力せよ\\\n",
    "2 × 1 = 2 \\\n",
    "2 × 2 = 4 \\\n",
    "2 × 3 = 6 \\\n",
    "2 × 4 = 8 \\\n",
    "2 × 5 = 10 \\\n",
    "2 × 6 = 12 \\\n",
    "2 × 7 = 14 \\\n",
    "2 × 8 = 16 \\\n",
    "2 × 9 = 18"
   ]
  },
  {
   "cell_type": "code",
   "execution_count": null,
   "metadata": {},
   "outputs": [],
   "source": []
  },
  {
   "cell_type": "markdown",
   "metadata": {},
   "source": [
    "答え\n",
    "<!--\n",
    "# format()を用いた場合\n",
    "base = 2\n",
    "for i in range(1,10):\n",
    "    print(\"{:d} × {:d} = {:d}\".format(base, i, base*i))\n",
    "\n",
    "# fstringを用いた場合\n",
    "base = 2\n",
    "for i in range(1,10):\n",
    "    print(f\"{base} × {i} = {base*i}\") #:dは省略可能\n",
    "-->"
   ]
  },
  {
   "cell_type": "markdown",
   "metadata": {},
   "source": [
    "# クラス"
   ]
  },
  {
   "cell_type": "markdown",
   "metadata": {},
   "source": [
    "### クラスとは?\n",
    "・ソフトウェア工学における「オブジェクト指向」という概念でててくる言葉\\\n",
    "・Javaなどのオブジェクト指向の色が強い言語でアプリケーションを作るときに必須らしい\n",
    "\n",
    "車（モデルA）を作るとき\\\n",
    "まずモデルAの設計図（クラス）を作り、モデルAを作る\n"
   ]
  },
  {
   "cell_type": "code",
   "execution_count": 65,
   "metadata": {},
   "outputs": [],
   "source": [
    "class ModelA:                                # ModelA クラスの宣言\n",
    "    \n",
    "    def __init__(self):   #メソッド           # 呼び出す際に呼ばれる関数\n",
    "        self.gas = 100                       # 車の持つ要素を定義 gasはフィールド\n",
    "    \n",
    "    def run(self):                           # 車が走る際の処理を関数で表現\n",
    "        self.gas = self.gas - 5              # gasは減る\n",
    "        print(\"10km走りました\")\n",
    "    \n",
    "    def charge(self, supply_amount): \n",
    "        self.gas = self.gas + supply_amount #ガソリンの補給\n",
    "        print(\"現在のガソリンは{}リットルです\".format(self.gas)) #現在のガソリン量を表示"
   ]
  },
  {
   "cell_type": "markdown",
   "metadata": {},
   "source": [
    "＿＿init＿＿  \\\n",
    "・コンストラクタと呼ぶ \\\n",
    "・クラスが持つフィールドを定義する \\\n",
    "・initをアンダーバー(_)2つで挟む \\\n",
    "・initializeの略らしいです\n",
    "\n",
    "self \\\n",
    "・「クラスに属している」ということを明示するために付ける \\\n",
    "・「フィールドの先頭」と「関数の第一引数」にはselfをつける \\\n",
    "・ クラス内からフィールドアクセスする場合にはselfが必要"
   ]
  },
  {
   "cell_type": "code",
   "execution_count": 66,
   "metadata": {},
   "outputs": [],
   "source": [
    "model_A = ModelA() # model_A という名前のインスタンス作成"
   ]
  },
  {
   "cell_type": "code",
   "execution_count": 67,
   "metadata": {},
   "outputs": [
    {
     "name": "stdout",
     "output_type": "stream",
     "text": [
      "100\n"
     ]
    }
   ],
   "source": [
    "print(model_A.gas) "
   ]
  },
  {
   "cell_type": "code",
   "execution_count": 68,
   "metadata": {},
   "outputs": [
    {
     "name": "stdout",
     "output_type": "stream",
     "text": [
      "10km走りました\n"
     ]
    }
   ],
   "source": [
    "model_A.run() # model_Aのrun関数を実行 (self)は無視できる"
   ]
  },
  {
   "cell_type": "code",
   "execution_count": 69,
   "metadata": {},
   "outputs": [
    {
     "name": "stdout",
     "output_type": "stream",
     "text": [
      "95\n"
     ]
    }
   ],
   "source": [
    "print(model_A.gas)      # model_Aのgas残量を確認"
   ]
  },
  {
   "cell_type": "code",
   "execution_count": 70,
   "metadata": {},
   "outputs": [
    {
     "name": "stdout",
     "output_type": "stream",
     "text": [
      "10km走りました\n"
     ]
    }
   ],
   "source": [
    "model_A.run()"
   ]
  },
  {
   "cell_type": "code",
   "execution_count": 71,
   "metadata": {},
   "outputs": [
    {
     "name": "stdout",
     "output_type": "stream",
     "text": [
      "90\n"
     ]
    }
   ],
   "source": [
    "print(model_A.gas)  "
   ]
  },
  {
   "cell_type": "code",
   "execution_count": 72,
   "metadata": {},
   "outputs": [],
   "source": [
    "# 複数の実体を作っても問題ない\n",
    "model_A_2 = ModelA()\n",
    "model_A_3 = ModelA()"
   ]
  },
  {
   "cell_type": "code",
   "execution_count": 73,
   "metadata": {},
   "outputs": [],
   "source": [
    "class ModelA_2: \n",
    "    \n",
    "    def __init__(self, gas):  # __init__の引数にgasを追加\n",
    "        self.gas = gas # gasの値が self.gasの初期値になる\n",
    "            \n",
    "    def run(self): \n",
    "        self.gas = self.gas - 5 \n",
    "        print(\"10km走りました\")\n",
    "    \n",
    "    def charge(self, supply_amount): \n",
    "        self.gas = self.gas + supply_amount \n",
    "        print(\"現在のガソリンは{}リットルです\".format(self.gas)) "
   ]
  },
  {
   "cell_type": "code",
   "execution_count": 74,
   "metadata": {},
   "outputs": [
    {
     "data": {
      "text/plain": [
       "200"
      ]
     },
     "execution_count": 74,
     "metadata": {},
     "output_type": "execute_result"
    }
   ],
   "source": [
    "model_A_2 = ModelA_2(200)\n",
    "model_A_2.gas"
   ]
  },
  {
   "cell_type": "code",
   "execution_count": 75,
   "metadata": {},
   "outputs": [
    {
     "name": "stdout",
     "output_type": "stream",
     "text": [
      "10km走りました\n"
     ]
    }
   ],
   "source": [
    "model_A_2.run()"
   ]
  },
  {
   "cell_type": "code",
   "execution_count": 76,
   "metadata": {},
   "outputs": [
    {
     "data": {
      "text/plain": [
       "195"
      ]
     },
     "execution_count": 76,
     "metadata": {},
     "output_type": "execute_result"
    }
   ],
   "source": [
    "model_A_2.gas"
   ]
  },
  {
   "cell_type": "markdown",
   "metadata": {},
   "source": [
    "### クラス演習　問題１"
   ]
  },
  {
   "cell_type": "markdown",
   "metadata": {},
   "source": [
    "下表のフィールド、メソッドを持ったHumanクラスを作成せよ"
   ]
  },
  {
   "cell_type": "markdown",
   "metadata": {},
   "source": [
    "|フィールド|意味|初期値|\n",
    "|:---|:---|:---|\n",
    "|health|体力|100|\n",
    "|time|持ち時間|10|\n",
    "|achieve|業績|0"
   ]
  },
  {
   "cell_type": "markdown",
   "metadata": {},
   "source": [
    "|メソッド|詳細|\n",
    "|:---|:---|\n",
    "|work: <br> 体力を消費して業績を伸ばす |体力を「50」持ち時間を「1」消費し、 <br> 業績を「1」増やす|\n",
    "|rest: <br> 持ち時間を消費して体力を回復する|持ち時間を「3」消費し、<br> 体力を「50」増やす|"
   ]
  },
  {
   "cell_type": "code",
   "execution_count": null,
   "metadata": {},
   "outputs": [],
   "source": []
  },
  {
   "cell_type": "markdown",
   "metadata": {},
   "source": [
    "ヒント（ダブルクリックで表示）\n",
    "<!--\n",
    "class Human: #Humanクラスを宣言\n",
    "    def __init__(self):\n",
    "        #初期値の設定\n",
    "\n",
    "    def work(self):\n",
    "        #詳細の列に従って書く\n",
    "\n",
    "    def achieve(self):\n",
    "        #詳細の列に従って書く\n",
    "-->"
   ]
  },
  {
   "cell_type": "markdown",
   "metadata": {},
   "source": [
    "答え（ダブルクリックで表示）\n",
    "<!--\n",
    "class Human: # Humanクラスを宣言\n",
    "    def __init__(self): # Humanクラスが呼び出されるときに実行される．この文は必要ない\n",
    "        print(\"initialized\") #呼び出されたことがわかり易いようにprint文を置いた\n",
    "        self.health = 100 # インスタンスがもつhealthを100に初期化\n",
    "        self.time = 10 # インスタンスがもつtimeを10に初期化\n",
    "        self.achieve = 0 # インスタンスがもつメソッドを0に初期化\n",
    "    \n",
    "    def work(self):\n",
    "        print(\"work\") #呼び出されたことがわかり易いようにprint文を置いた\n",
    "        self.health -= 50\n",
    "        self.time -= 1\n",
    "        self.achieve += 1\n",
    "        \n",
    "        \n",
    "    def rest(self):\n",
    "        print(\"rest\") #呼び出されたことがわかり易いようにprint文を置いた\n",
    "        self.time -= 3\n",
    "        self.health += 50\n",
    "-->"
   ]
  },
  {
   "cell_type": "code",
   "execution_count": 77,
   "metadata": {},
   "outputs": [],
   "source": [
    "class Human: # Humanクラスを宣言\n",
    "    def __init__(self): # Humanクラスが呼び出されるときに実行される．この文は必要ない\n",
    "        print(\"initialized\") #呼び出されたことがわかり易いようにprint文を置いた\n",
    "        self.health = 100 # インスタンスがもつhealthを100に初期化\n",
    "        self.time = 10 # インスタンスがもつtimeを10に初期化\n",
    "        self.achieve = 0 # インスタンスがもつメソッドを0に初期化\n",
    "    \n",
    "    def work(self):\n",
    "        print(\"work\") #呼び出されたことがわかり易いようにprint文を置いた\n",
    "        self.health -= 50\n",
    "        self.achieve += 1\n",
    "        self.time -= 1\n",
    "        \n",
    "    def rest(self):\n",
    "        print(\"rest\") #呼び出されたことがわかり易いようにprint文を置いた\n",
    "        self.time -= 3\n",
    "        self.health += 50"
   ]
  },
  {
   "cell_type": "code",
   "execution_count": 78,
   "metadata": {},
   "outputs": [
    {
     "name": "stdout",
     "output_type": "stream",
     "text": [
      "initialized\n"
     ]
    }
   ],
   "source": [
    "human1 = Human() # human1という名前のインスタンスを生成"
   ]
  },
  {
   "cell_type": "code",
   "execution_count": 79,
   "metadata": {},
   "outputs": [
    {
     "name": "stdout",
     "output_type": "stream",
     "text": [
      "health: 100\n",
      "time: 10\n",
      "achieve: 0\n"
     ]
    }
   ],
   "source": [
    "print(\"health: {}\".format(human1.health))\n",
    "print(\"time: {}\".format(human1.time))\n",
    "print(\"achieve: {}\".format(human1.achieve))"
   ]
  },
  {
   "cell_type": "code",
   "execution_count": 80,
   "metadata": {},
   "outputs": [
    {
     "name": "stdout",
     "output_type": "stream",
     "text": [
      "work\n",
      "health: 50\n",
      "time: 9\n",
      "achieve: 1\n"
     ]
    }
   ],
   "source": [
    "human1.work()\n",
    "print(\"health: {}\".format(human1.health))\n",
    "print(\"time: {}\".format(human1.time))\n",
    "print(\"achieve: {}\".format(human1.achieve))"
   ]
  },
  {
   "cell_type": "code",
   "execution_count": 81,
   "metadata": {},
   "outputs": [
    {
     "name": "stdout",
     "output_type": "stream",
     "text": [
      "rest\n",
      "health: 100\n",
      "time: 6\n",
      "achieve: 1\n"
     ]
    }
   ],
   "source": [
    "human1.rest()\n",
    "print(\"health: {}\".format(human1.health))\n",
    "print(\"time: {}\".format(human1.time))\n",
    "print(\"achieve: {}\".format(human1.achieve))"
   ]
  },
  {
   "cell_type": "markdown",
   "metadata": {},
   "source": [
    "## クラスの継承"
   ]
  },
  {
   "cell_type": "markdown",
   "metadata": {},
   "source": [
    "モデルAにターボ機能を付け加えたモデルBを作りたい"
   ]
  },
  {
   "cell_type": "code",
   "execution_count": 82,
   "metadata": {},
   "outputs": [],
   "source": [
    "class ModelB(ModelA): # ModelAクラスを継承\n",
    "    \n",
    "    def turbo(self): #ターボを再現する関数\n",
    "        self.gas = self.gas-10 #ガソリンを10減らす代わりにターボを発動\n",
    "        print(\"ターボ機能を発動します！\")"
   ]
  },
  {
   "cell_type": "code",
   "execution_count": 83,
   "metadata": {
    "scrolled": false
   },
   "outputs": [
    {
     "name": "stdout",
     "output_type": "stream",
     "text": [
      "10km走りました\n"
     ]
    }
   ],
   "source": [
    "model_B = ModelB() #model_Bという名前のインスタンスを生成\n",
    "model_B.run() # ModelAのrun()を受け継いでいる"
   ]
  },
  {
   "cell_type": "code",
   "execution_count": 84,
   "metadata": {},
   "outputs": [
    {
     "data": {
      "text/plain": [
       "95"
      ]
     },
     "execution_count": 84,
     "metadata": {},
     "output_type": "execute_result"
    }
   ],
   "source": [
    "model_B.gas #gas残量確認"
   ]
  },
  {
   "cell_type": "code",
   "execution_count": 85,
   "metadata": {},
   "outputs": [
    {
     "name": "stdout",
     "output_type": "stream",
     "text": [
      "ターボ機能を発動します！\n"
     ]
    }
   ],
   "source": [
    "model_B.turbo()"
   ]
  },
  {
   "cell_type": "code",
   "execution_count": 86,
   "metadata": {},
   "outputs": [
    {
     "data": {
      "text/plain": [
       "85"
      ]
     },
     "execution_count": 86,
     "metadata": {},
     "output_type": "execute_result"
    }
   ],
   "source": [
    "model_B.gas"
   ]
  },
  {
   "cell_type": "markdown",
   "metadata": {},
   "source": [
    "### クラス演習　問題２"
   ]
  },
  {
   "cell_type": "markdown",
   "metadata": {},
   "source": [
    "Humanクラスを継承したEngineerクラスを定義せよ \\\n",
    "Engineerクラスは以下のメソッドを追加でもつ"
   ]
  },
  {
   "cell_type": "markdown",
   "metadata": {},
   "source": [
    "|メソッド|詳細|\n",
    "|:---|:---|\n",
    "|work_hard：<br>体力を多く消費して業績を大きく伸ばす|体力を「150」持ち時間を「3」消費し <br>業績を「5」増やす|"
   ]
  },
  {
   "cell_type": "code",
   "execution_count": null,
   "metadata": {},
   "outputs": [],
   "source": []
  },
  {
   "cell_type": "markdown",
   "metadata": {},
   "source": [
    "答え（ダブルクリックで表示）\n",
    "<!--\n",
    "class Engineer(Human): # Humanクラスを継承して新しくEngineerクラスを宣言\n",
    "    def work_hard(self):\n",
    "        print(\"work hard\")\n",
    "        self.achieve += 5\n",
    "        self.health -= 150\n",
    "        self.time -= 3\n",
    "-->"
   ]
  },
  {
   "cell_type": "code",
   "execution_count": 87,
   "metadata": {},
   "outputs": [],
   "source": [
    "class Engineer(Human): # Humanクラスを継承して新しくEngineerクラスを宣言\n",
    "    \n",
    "    def work_hard(self):\n",
    "        print(\"work hard\")\n",
    "        self.achieve += 5\n",
    "        self.health -= 150\n",
    "        self.time -= 3"
   ]
  },
  {
   "cell_type": "code",
   "execution_count": 88,
   "metadata": {},
   "outputs": [
    {
     "name": "stdout",
     "output_type": "stream",
     "text": [
      "initialized\n"
     ]
    }
   ],
   "source": [
    "engineer = Engineer() "
   ]
  },
  {
   "cell_type": "code",
   "execution_count": 89,
   "metadata": {},
   "outputs": [
    {
     "name": "stdout",
     "output_type": "stream",
     "text": [
      "health: 100\n",
      "time: 10\n",
      "achieve: 0\n"
     ]
    }
   ],
   "source": [
    "print(\"health: {}\".format(engineer.health))\n",
    "print(\"time: {}\".format(engineer.time))\n",
    "print(\"achieve: {}\".format(engineer.achieve))"
   ]
  },
  {
   "cell_type": "code",
   "execution_count": 90,
   "metadata": {},
   "outputs": [
    {
     "name": "stdout",
     "output_type": "stream",
     "text": [
      "rest\n",
      "health: 150\n",
      "time: 7\n",
      "achieve: 0\n"
     ]
    }
   ],
   "source": [
    "engineer.rest()\n",
    "print(\"health: {}\".format(engineer.health))\n",
    "print(\"time: {}\".format(engineer.time))\n",
    "print(\"achieve: {}\".format(engineer.achieve))"
   ]
  },
  {
   "cell_type": "code",
   "execution_count": 91,
   "metadata": {
    "scrolled": true
   },
   "outputs": [
    {
     "name": "stdout",
     "output_type": "stream",
     "text": [
      "work hard\n"
     ]
    }
   ],
   "source": [
    "engineer.work_hard()"
   ]
  },
  {
   "cell_type": "code",
   "execution_count": 92,
   "metadata": {},
   "outputs": [
    {
     "name": "stdout",
     "output_type": "stream",
     "text": [
      "health: 0\n",
      "time: 4\n",
      "achieve: 5\n"
     ]
    }
   ],
   "source": [
    "print(\"health: {}\".format(engineer.health))\n",
    "print(\"time: {}\".format(engineer.time))\n",
    "print(\"achieve: {}\".format(engineer.achieve))"
   ]
  },
  {
   "cell_type": "code",
   "execution_count": 93,
   "metadata": {},
   "outputs": [
    {
     "name": "stdout",
     "output_type": "stream",
     "text": [
      "work hard\n",
      "health: -150\n",
      "time: 1\n",
      "achieve: 10\n"
     ]
    }
   ],
   "source": [
    "engineer.work_hard() \n",
    "print(\"health: {}\".format(engineer.health))\n",
    "print(\"time: {}\".format(engineer.time))\n",
    "print(\"achieve: {}\".format(engineer.achieve))"
   ]
  },
  {
   "cell_type": "code",
   "execution_count": null,
   "metadata": {},
   "outputs": [],
   "source": []
  },
  {
   "cell_type": "code",
   "execution_count": null,
   "metadata": {},
   "outputs": [],
   "source": []
  },
  {
   "cell_type": "code",
   "execution_count": null,
   "metadata": {},
   "outputs": [],
   "source": []
  }
 ],
 "metadata": {
  "kernelspec": {
   "display_name": "Python 3",
   "language": "python",
   "name": "python3"
  },
  "language_info": {
   "codemirror_mode": {
    "name": "ipython",
    "version": 3
   },
   "file_extension": ".py",
   "mimetype": "text/x-python",
   "name": "python",
   "nbconvert_exporter": "python",
   "pygments_lexer": "ipython3",
   "version": "3.7.6"
  }
 },
 "nbformat": 4,
 "nbformat_minor": 2
}
